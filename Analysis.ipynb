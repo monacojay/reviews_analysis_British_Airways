{
 "cells": [
  {
   "cell_type": "markdown",
   "id": "c05bdc51-ea59-462f-86b6-6eb3359e2c77",
   "metadata": {
    "tags": []
   },
   "source": [
    "# Analysis: British Airways Customer Reviews "
   ]
  },
  {
   "cell_type": "markdown",
   "id": "cf8f3852-bbcc-4947-aebe-0327afd99f30",
   "metadata": {},
   "source": [
    "<strong>Objective Scope:</strong>\n",
    "- Obtain, clean, and organize raw data\n",
    "- Plot issue prevelance word clouds\n",
    "- Perform sentiment anlysis\n",
    "- Highlight insights graphically"
   ]
  },
  {
   "cell_type": "markdown",
   "id": "31179170-e8d9-4e26-b802-e8c8b012a25d",
   "metadata": {},
   "source": [
    "<strong>Analysis Plan</strong>\n",
    "###### &nbsp;&nbsp;&nbsp;&nbsp;&nbsp;The data used for this project came from a single third-party source, the Skytrax airline customer review company. There were several less relevant British Airways review collections from this site that have been ommitted. For a basis of comparison I've included a summary analysis of a few close competitor's airlines along the same points, in tandem with ours. \n",
    "###### Data source: https://www.airlinequality.com/airline-reviews/british-airways"
   ]
  },
  {
   "cell_type": "markdown",
   "id": "21e97282-7dab-4362-86a6-ff4cda61ee21",
   "metadata": {},
   "source": [
    "## Gathering Data"
   ]
  },
  {
   "cell_type": "code",
   "execution_count": 1,
   "id": "7b0f8521-13ac-4df6-b16d-4d2ee9dc392f",
   "metadata": {},
   "outputs": [],
   "source": [
    "import pandas as pd"
   ]
  }
 ],
 "metadata": {
  "kernelspec": {
   "display_name": "Python 3 (ipykernel)",
   "language": "python",
   "name": "python3"
  },
  "language_info": {
   "codemirror_mode": {
    "name": "ipython",
    "version": 3
   },
   "file_extension": ".py",
   "mimetype": "text/x-python",
   "name": "python",
   "nbconvert_exporter": "python",
   "pygments_lexer": "ipython3",
   "version": "3.9.16"
  }
 },
 "nbformat": 4,
 "nbformat_minor": 5
}
