{
 "cells": [
  {
   "cell_type": "code",
   "execution_count": 2,
   "id": "59946e8a-e037-4835-acb3-bb3c340c89af",
   "metadata": {},
   "outputs": [],
   "source": [
    "import urllib.request\n",
    "from bs4 import BeautifulSoup as bs\n",
    "import re\n",
    "import pandas as pd"
   ]
  },
  {
   "cell_type": "code",
   "execution_count": 17,
   "id": "ae29e848-da45-43fa-872f-3c948765fc5e",
   "metadata": {},
   "outputs": [
    {
     "name": "stdout",
     "output_type": "stream",
     "text": [
      "<html><head></head><body><header>\n",
      "<title>http://info.cern.ch</title>\n",
      "</header>\n",
      "<h1>http://info.cern.ch - home of the first website</h1>\n",
      "<p>From here you can:</p>\n",
      "<ul>\n",
      "<li><a href=\"http://info.cern.ch/hypertext/WWW/TheProject.html\">Browse the first website</a></li>\n",
      "<li><a href=\"http://line-mode.cern.ch/www/hypertext/WWW/TheProject.html\">Browse the first website using the line-mode browser simulator</a></li>\n",
      "<li><a href=\"http://home.web.cern.ch/topics/birth-web\">Learn about the birth of the web</a></li>\n",
      "<li><a href=\"http://home.web.cern.ch/about\">Learn about CERN, the physics laboratory where the web was born</a></li>\n",
      "</ul>\n",
      "</body></html>\n",
      "\n"
     ]
    }
   ],
   "source": [
    "#Bring in the web data\n",
    "webpage = urllib.request.urlopen(\"http://info.cern.ch/\")\n",
    "soup = bs(webpage)\n",
    "\n",
    "print(soup)"
   ]
  },
  {
   "cell_type": "code",
   "execution_count": 36,
   "id": "11ac091a-03db-4bf2-b48b-1811989c0dbb",
   "metadata": {},
   "outputs": [
    {
     "name": "stdout",
     "output_type": "stream",
     "text": [
      "[]\n"
     ]
    }
   ],
   "source": [
    "links = soup.body.findAll('a')\n",
    "hyperlinks = re.findall('href=\"http:.\\w+', str(links))\n",
    "print(hyperlinks)"
   ]
  },
  {
   "cell_type": "code",
   "execution_count": 37,
   "id": "298a4895-8f83-4c74-b7e9-f15546a23b01",
   "metadata": {},
   "outputs": [],
   "source": [
    "import re\n",
    "import requests\n",
    "\n",
    "def extract_hyperlink_names(url):\n",
    "    # Fetch the content of the web page\n",
    "    response = requests.get(url)\n",
    "    if response.status_code != 200:\n",
    "        return []  # Return an empty list if there was an error accessing the URL\n",
    "\n",
    "    # Extract the hyperlink names using regular expressions\n",
    "    pattern = r'<a[^>]*>(.*?)</a>'\n",
    "    hyperlink_names = re.findall(pattern, response.text, re.IGNORECASE)\n",
    "\n",
    "    return hyperlink_names"
   ]
  },
  {
   "cell_type": "code",
   "execution_count": 38,
   "id": "2df16fdf-7dd2-46d3-8c02-5065370a38e4",
   "metadata": {},
   "outputs": [
    {
     "name": "stdout",
     "output_type": "stream",
     "text": [
      "Browse the first website\n",
      "Browse the first website using the line-mode browser simulator\n",
      "Learn about the birth of the web\n",
      "Learn about CERN, the physics laboratory where the web was born\n"
     ]
    }
   ],
   "source": [
    "url = \"http://info.cern.ch/\"  # Replace with your desired URL\n",
    "names = extract_hyperlink_names(url)\n",
    "for name in names:\n",
    "    print(name)"
   ]
  }
 ],
 "metadata": {
  "kernelspec": {
   "display_name": "Python 3 (ipykernel)",
   "language": "python",
   "name": "python3"
  },
  "language_info": {
   "codemirror_mode": {
    "name": "ipython",
    "version": 3
   },
   "file_extension": ".py",
   "mimetype": "text/x-python",
   "name": "python",
   "nbconvert_exporter": "python",
   "pygments_lexer": "ipython3",
   "version": "3.9.13"
  }
 },
 "nbformat": 4,
 "nbformat_minor": 5
}
